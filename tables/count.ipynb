{
 "cells": [
  {
   "cell_type": "code",
   "execution_count": 1,
   "metadata": {},
   "outputs": [],
   "source": [
    "import numpy as np\n",
    "import pandas as pd\n",
    "import matplotlib.pyplot as plt"
   ]
  },
  {
   "cell_type": "code",
   "execution_count": 2,
   "metadata": {},
   "outputs": [
    {
     "name": "stdout",
     "output_type": "stream",
     "text": [
      "279\n",
      "228\n",
      "Number of preprints for team1: 30\n",
      "Number of preprints for team2: 207\n",
      "Number of preprints for team3: 42\n",
      "Number of preprints for RR/ID: 228\n"
     ]
    }
   ],
   "source": [
    "# Load 3 json files and concatenate them into a single dataframe\n",
    "df1 = pd.read_json('team1_llm_results.json')\n",
    "df2 = pd.read_json('team2_llm_results.json')\n",
    "df3 = pd.read_json('team3_llm_results.json')\n",
    "df = pd.concat([df1, df2, df3])\n",
    "print(len(df))\n",
    "# Remove duplicate rows with the same preprint ID\n",
    "df = df.drop_duplicates(subset='Link/DOI')\n",
    "print(len(df))\n",
    "\n",
    "# Count the number of rows in the dataframe\n",
    "n1 = len(df1)\n",
    "n2 = len(df2)\n",
    "n3 = len(df3)\n",
    "n = len(df)\n",
    "\n",
    "# Print the number of rows in each dataframe\n",
    "print('Number of preprints for team1:', n1)\n",
    "print('Number of preprints for team2:', n2)\n",
    "print('Number of preprints for team3:', n3)\n",
    "print('Number of preprints for RR/ID:', n)"
   ]
  },
  {
   "cell_type": "code",
   "execution_count": null,
   "metadata": {},
   "outputs": [],
   "source": []
  }
 ],
 "metadata": {
  "kernelspec": {
   "display_name": "Python 3",
   "language": "python",
   "name": "python3"
  },
  "language_info": {
   "codemirror_mode": {
    "name": "ipython",
    "version": 3
   },
   "file_extension": ".py",
   "mimetype": "text/x-python",
   "name": "python",
   "nbconvert_exporter": "python",
   "pygments_lexer": "ipython3",
   "version": "3.10.6"
  }
 },
 "nbformat": 4,
 "nbformat_minor": 2
}
