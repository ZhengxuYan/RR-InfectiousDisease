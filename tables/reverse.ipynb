{
 "cells": [
  {
   "cell_type": "code",
   "execution_count": 1,
   "metadata": {},
   "outputs": [],
   "source": [
    "import pandas as pd"
   ]
  },
  {
   "cell_type": "code",
   "execution_count": 2,
   "metadata": {},
   "outputs": [],
   "source": [
    "# Load the table in json format and reverse the rows\n",
    "df = pd.read_json('team1_results.json')\n",
    "df = df.iloc[::-1]\n",
    "\n",
    "# Dump it into json and replace the file\n",
    "df.to_json('team1_results.json', orient='records')\n",
    "\n",
    "df = pd.read_json('team2_results.json')\n",
    "df = df.iloc[::-1]\n",
    "df.to_json('team2_results.json', orient='records')\n",
    "\n",
    "df = pd.read_json('team3_results.json')\n",
    "df = df.iloc[::-1]\n",
    "df.to_json('team3_results.json', orient='records')"
   ]
  },
  {
   "cell_type": "code",
   "execution_count": null,
   "metadata": {},
   "outputs": [],
   "source": []
  }
 ],
 "metadata": {
  "kernelspec": {
   "display_name": "Python 3",
   "language": "python",
   "name": "python3"
  },
  "language_info": {
   "codemirror_mode": {
    "name": "ipython",
    "version": 3
   },
   "file_extension": ".py",
   "mimetype": "text/x-python",
   "name": "python",
   "nbconvert_exporter": "python",
   "pygments_lexer": "ipython3",
   "version": "3.10.6"
  }
 },
 "nbformat": 4,
 "nbformat_minor": 2
}
